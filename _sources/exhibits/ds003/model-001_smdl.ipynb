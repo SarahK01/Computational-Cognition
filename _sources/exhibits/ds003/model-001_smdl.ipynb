{
 "cells": [
  {
   "cell_type": "markdown",
   "id": "a67b00dd",
   "metadata": {},
   "source": [
    "# ds003 - model 1"
   ]
  },
  {
   "cell_type": "code",
   "execution_count": 1,
   "id": "3e86ea1d",
   "metadata": {},
   "outputs": [],
   "source": [
    "%load_ext autoreload\n",
    "%autoreload 2\n",
    "\n",
    "import json\n",
    "from pathlib import Path\n",
    "from itertools import chain\n",
    "\n",
    "import numpy as np\n",
    "import pandas as pd"
   ]
  },
  {
   "cell_type": "markdown",
   "id": "c416d466",
   "metadata": {},
   "source": [
    "## Preamble\n",
    "We will use Datalad to manage our data, which in turn depends on git-annex."
   ]
  },
  {
   "cell_type": "code",
   "execution_count": 2,
   "id": "9f39bdcd",
   "metadata": {},
   "outputs": [
    {
     "name": "stdout",
     "output_type": "stream",
     "text": [
      "[\u001b[1;31mERROR  \u001b[0m] No working git-annex installation of version >= 8.20200309. Visit http://handbook.datalad.org/r.html?install for instructions on how to install DataLad and git-annex. (MissingExternalDependency) \r\n",
      "\u001b[0m"
     ]
    }
   ],
   "source": [
    "! datalad get ds000003-fmriprep/sub-*/func/*_desc-confounds_*.tsv \\\n",
    "              ds000003-fmriprep/sub-*/func/*_desc-confounds_*.json \\\n",
    "              ds000003-fmriprep/dataset_description.json "
   ]
  },
  {
   "cell_type": "code",
   "execution_count": 3,
   "id": "6677aff8",
   "metadata": {},
   "outputs": [],
   "source": [
    "from nilearn.plotting import plot_design_matrix\n",
    "\n",
    "import bids\n",
    "from bids.modeling import BIDSStatsModelsGraph\n",
    "from bids.layout import BIDSLayout\n",
    "\n",
    "\n",
    "def api(obj):\n",
    "    return {attr: getattr(obj, attr) for attr in dir(obj) if not attr[0] == '_'}"
   ]
  },
  {
   "cell_type": "code",
   "execution_count": 4,
   "id": "971f6921",
   "metadata": {},
   "outputs": [
    {
     "ename": "NotADirectoryError",
     "evalue": "[Errno 20] Not a directory: '/home/runner/work/model-zoo/model-zoo/model-zoo/exhibits/ds003/ds000003-fmriprep/sub-01/func/sub-01_task-rhymejudgment_desc-confounds_timeseries.json'",
     "output_type": "error",
     "traceback": [
      "\u001b[0;31m---------------------------------------------------------------------------\u001b[0m",
      "\u001b[0;31mNotADirectoryError\u001b[0m                        Traceback (most recent call last)",
      "Cell \u001b[0;32mIn [4], line 1\u001b[0m\n\u001b[0;32m----> 1\u001b[0m layout \u001b[38;5;241m=\u001b[39m \u001b[43mBIDSLayout\u001b[49m\u001b[43m(\u001b[49m\u001b[38;5;124;43m'\u001b[39;49m\u001b[38;5;124;43m./ds000003\u001b[39;49m\u001b[38;5;124;43m'\u001b[39;49m\u001b[43m,\u001b[49m\u001b[43m \u001b[49m\u001b[43mderivatives\u001b[49m\u001b[38;5;241;43m=\u001b[39;49m\u001b[38;5;124;43m'\u001b[39;49m\u001b[38;5;124;43m./ds000003-fmriprep\u001b[39;49m\u001b[38;5;124;43m'\u001b[39;49m\u001b[43m)\u001b[49m\n",
      "File \u001b[0;32m~/work/model-zoo/model-zoo/src/pybids/bids/layout/layout.py:158\u001b[0m, in \u001b[0;36mBIDSLayout.__init__\u001b[0;34m(self, root, validate, absolute_paths, derivatives, config, sources, regex_search, database_path, reset_database, indexer, **indexer_kwargs)\u001b[0m\n\u001b[1;32m    156\u001b[0m \u001b[38;5;28;01mif\u001b[39;00m derivatives \u001b[38;5;129;01mis\u001b[39;00m \u001b[38;5;28;01mTrue\u001b[39;00m:\n\u001b[1;32m    157\u001b[0m     derivatives \u001b[38;5;241m=\u001b[39m root \u001b[38;5;241m/\u001b[39m \u001b[38;5;124m'\u001b[39m\u001b[38;5;124mderivatives\u001b[39m\u001b[38;5;124m'\u001b[39m\n\u001b[0;32m--> 158\u001b[0m \u001b[38;5;28;43mself\u001b[39;49m\u001b[38;5;241;43m.\u001b[39;49m\u001b[43madd_derivatives\u001b[49m\u001b[43m(\u001b[49m\n\u001b[1;32m    159\u001b[0m \u001b[43m    \u001b[49m\u001b[43mderivatives\u001b[49m\u001b[43m,\u001b[49m\u001b[43m \u001b[49m\u001b[43mparent_database_path\u001b[49m\u001b[38;5;241;43m=\u001b[39;49m\u001b[43mdatabase_path\u001b[49m\u001b[43m,\u001b[49m\n\u001b[1;32m    160\u001b[0m \u001b[43m    \u001b[49m\u001b[43mvalidate\u001b[49m\u001b[38;5;241;43m=\u001b[39;49m\u001b[43mvalidate\u001b[49m\u001b[43m,\u001b[49m\u001b[43m \u001b[49m\u001b[43mabsolute_paths\u001b[49m\u001b[38;5;241;43m=\u001b[39;49m\u001b[43mabsolute_paths\u001b[49m\u001b[43m,\u001b[49m\n\u001b[1;32m    161\u001b[0m \u001b[43m    \u001b[49m\u001b[43mderivatives\u001b[49m\u001b[38;5;241;43m=\u001b[39;49m\u001b[38;5;28;43;01mNone\u001b[39;49;00m\u001b[43m,\u001b[49m\u001b[43m \u001b[49m\u001b[43msources\u001b[49m\u001b[38;5;241;43m=\u001b[39;49m\u001b[38;5;28;43mself\u001b[39;49m\u001b[43m,\u001b[49m\u001b[43m \u001b[49m\u001b[43mconfig\u001b[49m\u001b[38;5;241;43m=\u001b[39;49m\u001b[38;5;28;43;01mNone\u001b[39;49;00m\u001b[43m,\u001b[49m\n\u001b[1;32m    162\u001b[0m \u001b[43m    \u001b[49m\u001b[43mregex_search\u001b[49m\u001b[38;5;241;43m=\u001b[39;49m\u001b[43mregex_search\u001b[49m\u001b[43m,\u001b[49m\u001b[43m \u001b[49m\u001b[43mreset_database\u001b[49m\u001b[38;5;241;43m=\u001b[39;49m\u001b[43mreset_database\u001b[49m\u001b[43m,\u001b[49m\n\u001b[1;32m    163\u001b[0m \u001b[43m    \u001b[49m\u001b[43mindexer\u001b[49m\u001b[38;5;241;43m=\u001b[39;49m\u001b[43mindexer\u001b[49m\u001b[43m,\u001b[49m\u001b[43m \u001b[49m\u001b[38;5;241;43m*\u001b[39;49m\u001b[38;5;241;43m*\u001b[39;49m\u001b[43mindexer_kwargs\u001b[49m\u001b[43m)\u001b[49m\n",
      "File \u001b[0;32m~/work/model-zoo/model-zoo/src/pybids/bids/layout/layout.py:483\u001b[0m, in \u001b[0;36mBIDSLayout.add_derivatives\u001b[0;34m(self, path, parent_database_path, **kwargs)\u001b[0m\n\u001b[1;32m    481\u001b[0m     child_database_path \u001b[38;5;241m=\u001b[39m parent_database_path \u001b[38;5;241m/\u001b[39m name\n\u001b[1;32m    482\u001b[0m     kwargs[\u001b[38;5;124m'\u001b[39m\u001b[38;5;124mdatabase_path\u001b[39m\u001b[38;5;124m'\u001b[39m] \u001b[38;5;241m=\u001b[39m child_database_path\n\u001b[0;32m--> 483\u001b[0m \u001b[38;5;28mself\u001b[39m\u001b[38;5;241m.\u001b[39mderivatives[name] \u001b[38;5;241m=\u001b[39m \u001b[43mBIDSLayout\u001b[49m\u001b[43m(\u001b[49m\u001b[43mderiv\u001b[49m\u001b[43m,\u001b[49m\u001b[43m \u001b[49m\u001b[38;5;241;43m*\u001b[39;49m\u001b[38;5;241;43m*\u001b[39;49m\u001b[43mkwargs\u001b[49m\u001b[43m)\u001b[49m\n",
      "File \u001b[0;32m~/work/model-zoo/model-zoo/src/pybids/bids/layout/layout.py:152\u001b[0m, in \u001b[0;36mBIDSLayout.__init__\u001b[0;34m(self, root, validate, absolute_paths, derivatives, config, sources, regex_search, database_path, reset_database, indexer, **indexer_kwargs)\u001b[0m\n\u001b[1;32m    150\u001b[0m     \u001b[38;5;28;01mif\u001b[39;00m indexer \u001b[38;5;129;01mis\u001b[39;00m \u001b[38;5;28;01mNone\u001b[39;00m:\n\u001b[1;32m    151\u001b[0m         indexer \u001b[38;5;241m=\u001b[39m BIDSLayoutIndexer(validate\u001b[38;5;241m=\u001b[39mvalidate, \u001b[38;5;241m*\u001b[39m\u001b[38;5;241m*\u001b[39mindexer_kwargs)\n\u001b[0;32m--> 152\u001b[0m     \u001b[43mindexer\u001b[49m\u001b[43m(\u001b[49m\u001b[38;5;28;43mself\u001b[39;49m\u001b[43m)\u001b[49m\n\u001b[1;32m    154\u001b[0m \u001b[38;5;66;03m# Add derivatives if any are found\u001b[39;00m\n\u001b[1;32m    155\u001b[0m \u001b[38;5;28;01mif\u001b[39;00m derivatives:\n",
      "File \u001b[0;32m~/work/model-zoo/model-zoo/src/pybids/bids/layout/index.py:153\u001b[0m, in \u001b[0;36mBIDSLayoutIndexer.__call__\u001b[0;34m(self, layout)\u001b[0m\n\u001b[1;32m    151\u001b[0m \u001b[38;5;28mself\u001b[39m\u001b[38;5;241m.\u001b[39m_index_dir(\u001b[38;5;28mself\u001b[39m\u001b[38;5;241m.\u001b[39m_layout\u001b[38;5;241m.\u001b[39m_root, \u001b[38;5;28mself\u001b[39m\u001b[38;5;241m.\u001b[39m_config)\n\u001b[1;32m    152\u001b[0m \u001b[38;5;28;01mif\u001b[39;00m \u001b[38;5;28mself\u001b[39m\u001b[38;5;241m.\u001b[39mindex_metadata:\n\u001b[0;32m--> 153\u001b[0m     \u001b[38;5;28;43mself\u001b[39;49m\u001b[38;5;241;43m.\u001b[39;49m\u001b[43m_index_metadata\u001b[49m\u001b[43m(\u001b[49m\u001b[43m)\u001b[49m\n",
      "File \u001b[0;32m~/work/model-zoo/model-zoo/src/pybids/bids/layout/index.py:419\u001b[0m, in \u001b[0;36mBIDSLayoutIndexer._index_metadata\u001b[0;34m(self)\u001b[0m\n\u001b[1;32m    417\u001b[0m \u001b[38;5;28;01mfor\u001b[39;00m pl, js_file \u001b[38;5;129;01min\u001b[39;00m payloads[::\u001b[38;5;241m-\u001b[39m\u001b[38;5;241m1\u001b[39m]:\n\u001b[1;32m    418\u001b[0m     \u001b[38;5;28;01mtry\u001b[39;00m:\n\u001b[0;32m--> 419\u001b[0m         file_md\u001b[38;5;241m.\u001b[39mupdate(\u001b[43mpl\u001b[49m\u001b[43m(\u001b[49m\u001b[43m)\u001b[49m)\n\u001b[1;32m    420\u001b[0m     \u001b[38;5;28;01mexcept\u001b[39;00m \u001b[38;5;167;01mFileNotFoundError\u001b[39;00m:\n\u001b[1;32m    421\u001b[0m         \u001b[38;5;28;01mif\u001b[39;00m \u001b[38;5;129;01mnot\u001b[39;00m virtual_datafile:\n",
      "File \u001b[0;32m~/work/model-zoo/model-zoo/src/pybids/bids/layout/index.py:311\u001b[0m, in \u001b[0;36mBIDSLayoutIndexer._index_metadata.<locals>.load_json\u001b[0;34m(path)\u001b[0m\n\u001b[1;32m    309\u001b[0m \u001b[38;5;129m@lru_cache\u001b[39m(maxsize\u001b[38;5;241m=\u001b[39m\u001b[38;5;28;01mNone\u001b[39;00m)\n\u001b[1;32m    310\u001b[0m \u001b[38;5;28;01mdef\u001b[39;00m \u001b[38;5;21mload_json\u001b[39m(path):\n\u001b[0;32m--> 311\u001b[0m     \u001b[38;5;28;01mwith\u001b[39;00m \u001b[38;5;28;43mopen\u001b[39;49m\u001b[43m(\u001b[49m\u001b[43mpath\u001b[49m\u001b[43m,\u001b[49m\u001b[43m \u001b[49m\u001b[38;5;124;43m'\u001b[39;49m\u001b[38;5;124;43mr\u001b[39;49m\u001b[38;5;124;43m'\u001b[39;49m\u001b[43m,\u001b[49m\u001b[43m \u001b[49m\u001b[43mencoding\u001b[49m\u001b[38;5;241;43m=\u001b[39;49m\u001b[38;5;124;43m'\u001b[39;49m\u001b[38;5;124;43mutf-8\u001b[39;49m\u001b[38;5;124;43m'\u001b[39;49m\u001b[43m)\u001b[49m \u001b[38;5;28;01mas\u001b[39;00m handle:\n\u001b[1;32m    312\u001b[0m         \u001b[38;5;28;01mtry\u001b[39;00m:\n\u001b[1;32m    313\u001b[0m             \u001b[38;5;28;01mreturn\u001b[39;00m json\u001b[38;5;241m.\u001b[39mload(handle)\n",
      "\u001b[0;31mNotADirectoryError\u001b[0m: [Errno 20] Not a directory: '/home/runner/work/model-zoo/model-zoo/model-zoo/exhibits/ds003/ds000003-fmriprep/sub-01/func/sub-01_task-rhymejudgment_desc-confounds_timeseries.json'"
     ]
    }
   ],
   "source": [
    "layout = BIDSLayout('./ds000003', derivatives='./ds000003-fmriprep')"
   ]
  },
  {
   "cell_type": "code",
   "execution_count": null,
   "id": "4b234fb7",
   "metadata": {},
   "outputs": [],
   "source": [
    "json_file = 'model-001_smdl.json'\n",
    "spec = json.loads(Path(json_file).read_text())\n",
    "spec"
   ]
  },
  {
   "cell_type": "code",
   "execution_count": null,
   "id": "392da1b4",
   "metadata": {},
   "outputs": [],
   "source": [
    "layout"
   ]
  },
  {
   "cell_type": "code",
   "execution_count": null,
   "id": "7e2a28e6",
   "metadata": {},
   "outputs": [],
   "source": [
    "graph = BIDSStatsModelsGraph(layout, spec)"
   ]
  },
  {
   "cell_type": "code",
   "execution_count": null,
   "id": "9860eb79",
   "metadata": {},
   "outputs": [],
   "source": [
    "root_node = graph.root_node"
   ]
  },
  {
   "cell_type": "code",
   "execution_count": null,
   "id": "af7221ab",
   "metadata": {},
   "outputs": [],
   "source": [
    "try:\n",
    "    graph.load_collections()\n",
    "except ValueError:\n",
    "    graph.load_collections(scan_length=320)"
   ]
  },
  {
   "cell_type": "code",
   "execution_count": null,
   "id": "2093255c",
   "metadata": {},
   "outputs": [],
   "source": [
    "collections = layout.get_collections('run', task='rhymejudgment', scan_length=320)"
   ]
  },
  {
   "cell_type": "code",
   "execution_count": null,
   "id": "fc5311f1",
   "metadata": {},
   "outputs": [],
   "source": [
    "root_node.get_collections()[-1].entities"
   ]
  },
  {
   "cell_type": "code",
   "execution_count": null,
   "id": "a4614ce7",
   "metadata": {},
   "outputs": [],
   "source": [
    "graph.load_collections(scan_length=320)"
   ]
  },
  {
   "cell_type": "code",
   "execution_count": null,
   "id": "42e29874",
   "metadata": {},
   "outputs": [],
   "source": [
    "specs = root_node.run(group_by=root_node.group_by)\n",
    "len(specs)"
   ]
  },
  {
   "cell_type": "code",
   "execution_count": null,
   "id": "d70d875d",
   "metadata": {},
   "outputs": [],
   "source": [
    "specs[0]"
   ]
  },
  {
   "cell_type": "code",
   "execution_count": null,
   "id": "7ce1d589",
   "metadata": {},
   "outputs": [],
   "source": [
    "plot_design_matrix(specs[0].X, rescale=False)"
   ]
  }
 ],
 "metadata": {
  "jupytext": {
   "text_representation": {
    "extension": ".md",
    "format_name": "myst",
    "format_version": 0.13,
    "jupytext_version": "1.14.1"
   }
  },
  "kernelspec": {
   "display_name": "Python 3 (ipykernel)",
   "language": "python",
   "name": "python3"
  },
  "language_info": {
   "codemirror_mode": {
    "name": "ipython",
    "version": 3
   },
   "file_extension": ".py",
   "mimetype": "text/x-python",
   "name": "python",
   "nbconvert_exporter": "python",
   "pygments_lexer": "ipython3",
   "version": "3.9.14"
  },
  "source_map": [
   12,
   16,
   26,
   31,
   37,
   49,
   53,
   59,
   63,
   67,
   71,
   78,
   82,
   86,
   90,
   95,
   99
  ]
 },
 "nbformat": 4,
 "nbformat_minor": 5
}