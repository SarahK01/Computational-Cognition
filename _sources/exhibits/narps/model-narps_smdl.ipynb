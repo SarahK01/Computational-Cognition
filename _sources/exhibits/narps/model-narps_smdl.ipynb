{
 "cells": [
  {
   "cell_type": "markdown",
   "id": "473384a1",
   "metadata": {},
   "source": [
    "# NARPS"
   ]
  },
  {
   "cell_type": "code",
   "execution_count": 1,
   "id": "9aa0f1d0",
   "metadata": {},
   "outputs": [
    {
     "name": "stderr",
     "output_type": "stream",
     "text": [
      "Matplotlib is building the font cache; this may take a moment.\n"
     ]
    }
   ],
   "source": [
    "%load_ext autoreload\n",
    "%autoreload 2\n",
    "\n",
    "import json\n",
    "from pathlib import Path\n",
    "from itertools import chain\n",
    "\n",
    "import numpy as np\n",
    "import pandas as pd\n",
    "\n",
    "from nilearn.plotting import plot_design_matrix\n",
    "\n",
    "import bids\n",
    "from bids.modeling import BIDSStatsModelsGraph\n",
    "from bids.layout import BIDSLayout\n",
    "\n",
    "def api(obj):\n",
    "    return {attr: getattr(obj, attr) for attr in dir(obj) if not attr[0] == '_'}"
   ]
  },
  {
   "cell_type": "code",
   "execution_count": 2,
   "id": "0f068145",
   "metadata": {},
   "outputs": [
    {
     "ename": "ValueError",
     "evalue": "BIDS root does not exist: /home/zorro/repos/model-zoo/model-zoo/exhibits/narps/ds001734",
     "output_type": "error",
     "traceback": [
      "\u001b[0;31m---------------------------------------------------------------------------\u001b[0m",
      "\u001b[0;31mValueError\u001b[0m                                Traceback (most recent call last)",
      "Cell \u001b[0;32mIn [2], line 1\u001b[0m\n\u001b[0;32m----> 1\u001b[0m layout \u001b[38;5;241m=\u001b[39m BIDSLayout(\u001b[38;5;124m'\u001b[39m\u001b[38;5;124m./ds001734/\u001b[39m\u001b[38;5;124m'\u001b[39m, database_path\u001b[38;5;241m=\u001b[39m\u001b[38;5;124m\"\u001b[39m\u001b[38;5;124m./ds001734.db\u001b[39m\u001b[38;5;124m\"\u001b[39m)\n",
      "File \u001b[0;32m~/work/model-zoo/model-zoo/src/pybids/bids/layout/layout.py:127\u001b[0m, in \u001b[0;36mBIDSLayout.__init__\u001b[0;34m(self, root, validate, absolute_paths, derivatives, config, sources, regex_search, database_path, reset_database, indexer, **indexer_kwargs)\u001b[0m\n\u001b[1;32m    124\u001b[0m     config \u001b[38;5;241m=\u001b[39m info\u001b[38;5;241m.\u001b[39mconfig\n\u001b[1;32m    126\u001b[0m \u001b[38;5;66;03m# Validate that a valid BIDS project exists at root\u001b[39;00m\n\u001b[0;32m--> 127\u001b[0m root, description \u001b[38;5;241m=\u001b[39m \u001b[43mvalidate_root\u001b[49m\u001b[43m(\u001b[49m\u001b[43mroot\u001b[49m\u001b[43m,\u001b[49m\u001b[43m \u001b[49m\u001b[43mvalidate\u001b[49m\u001b[43m)\u001b[49m\n\u001b[1;32m    129\u001b[0m \u001b[38;5;28mself\u001b[39m\u001b[38;5;241m.\u001b[39m_root \u001b[38;5;241m=\u001b[39m root  \u001b[38;5;66;03m# type: Path\u001b[39;00m\n\u001b[1;32m    130\u001b[0m \u001b[38;5;28mself\u001b[39m\u001b[38;5;241m.\u001b[39mdescription \u001b[38;5;241m=\u001b[39m description\n",
      "File \u001b[0;32m~/work/model-zoo/model-zoo/src/pybids/bids/layout/validation.py:73\u001b[0m, in \u001b[0;36mvalidate_root\u001b[0;34m(root, validate)\u001b[0m\n\u001b[1;32m     70\u001b[0m root \u001b[38;5;241m=\u001b[39m root\u001b[38;5;241m.\u001b[39mabsolute()\n\u001b[1;32m     72\u001b[0m \u001b[38;5;28;01mif\u001b[39;00m \u001b[38;5;129;01mnot\u001b[39;00m root\u001b[38;5;241m.\u001b[39mexists():\n\u001b[0;32m---> 73\u001b[0m     \u001b[38;5;28;01mraise\u001b[39;00m \u001b[38;5;167;01mValueError\u001b[39;00m(\u001b[38;5;124m\"\u001b[39m\u001b[38;5;124mBIDS root does not exist: \u001b[39m\u001b[38;5;132;01m%s\u001b[39;00m\u001b[38;5;124m\"\u001b[39m \u001b[38;5;241m%\u001b[39m root)\n\u001b[1;32m     75\u001b[0m target \u001b[38;5;241m=\u001b[39m root \u001b[38;5;241m/\u001b[39m \u001b[38;5;124m'\u001b[39m\u001b[38;5;124mdataset_description.json\u001b[39m\u001b[38;5;124m'\u001b[39m\n\u001b[1;32m     76\u001b[0m \u001b[38;5;28;01mif\u001b[39;00m \u001b[38;5;129;01mnot\u001b[39;00m target\u001b[38;5;241m.\u001b[39mexists():\n",
      "\u001b[0;31mValueError\u001b[0m: BIDS root does not exist: /home/zorro/repos/model-zoo/model-zoo/exhibits/narps/ds001734"
     ]
    }
   ],
   "source": [
    "layout = BIDSLayout('./ds001734/', database_path=\"./ds001734.db\")"
   ]
  },
  {
   "cell_type": "code",
   "execution_count": null,
   "id": "6c92267f",
   "metadata": {},
   "outputs": [],
   "source": [
    "json_file = './model-narps_smdl.json'\n",
    "spec = json.loads(Path(json_file).read_text())\n",
    "spec"
   ]
  },
  {
   "cell_type": "code",
   "execution_count": null,
   "id": "31948e3e",
   "metadata": {},
   "outputs": [],
   "source": [
    "spec['Input'] = {\n",
    "    'task': 'MGT',\n",
    "    'subject': ['001', '002', '003']\n",
    "}"
   ]
  },
  {
   "cell_type": "code",
   "execution_count": null,
   "id": "bde95912",
   "metadata": {},
   "outputs": [],
   "source": [
    "graph = BIDSStatsModelsGraph(layout, spec)"
   ]
  },
  {
   "cell_type": "code",
   "execution_count": null,
   "id": "323cb7f0",
   "metadata": {},
   "outputs": [],
   "source": [
    "graph.write_graph(format='svg')"
   ]
  },
  {
   "cell_type": "code",
   "execution_count": null,
   "id": "f701f4b5",
   "metadata": {},
   "outputs": [],
   "source": [
    "root_node = graph.root_node"
   ]
  },
  {
   "cell_type": "code",
   "execution_count": null,
   "id": "f41e75ea",
   "metadata": {},
   "outputs": [],
   "source": [
    "try:\n",
    "    graph.load_collections()\n",
    "except ValueError:\n",
    "    graph.load_collections(scan_length=453)  # TR = 1, nvols = 453"
   ]
  },
  {
   "cell_type": "code",
   "execution_count": null,
   "id": "2f541176",
   "metadata": {},
   "outputs": [],
   "source": [
    "specs = root_node.run(group_by=root_node.group_by, force_dense=False)"
   ]
  },
  {
   "cell_type": "code",
   "execution_count": null,
   "id": "8bcf8e13",
   "metadata": {},
   "outputs": [],
   "source": [
    "api(specs[0])"
   ]
  },
  {
   "cell_type": "code",
   "execution_count": null,
   "id": "7c723c84",
   "metadata": {},
   "outputs": [],
   "source": [
    "specs[0]"
   ]
  },
  {
   "cell_type": "code",
   "execution_count": null,
   "id": "590ad203",
   "metadata": {},
   "outputs": [],
   "source": [
    "plot_design_matrix(specs[0].X)"
   ]
  },
  {
   "cell_type": "code",
   "execution_count": null,
   "id": "2931354a",
   "metadata": {},
   "outputs": [],
   "source": [
    "specs[0].entities"
   ]
  },
  {
   "cell_type": "code",
   "execution_count": null,
   "id": "dd93e4ed",
   "metadata": {},
   "outputs": [],
   "source": [
    "specs[0].metadata"
   ]
  },
  {
   "cell_type": "code",
   "execution_count": null,
   "id": "f9052fba",
   "metadata": {},
   "outputs": [],
   "source": [
    "bold = layout.get(**specs[0].entities, suffix='bold', extension='.nii.gz')[0]"
   ]
  },
  {
   "cell_type": "code",
   "execution_count": null,
   "id": "60096ac8",
   "metadata": {},
   "outputs": [],
   "source": [
    "# import nilearn.glm\n",
    "# l1m = nilearn.glm.first_level.FirstLevelModel()\n",
    "# l1m.fit(bold.get_image(), design_matrices=specs[0].X)"
   ]
  },
  {
   "cell_type": "code",
   "execution_count": null,
   "id": "c2dfa40c",
   "metadata": {},
   "outputs": [],
   "source": [
    "next_node = root_node.children[0].destination"
   ]
  },
  {
   "cell_type": "code",
   "execution_count": null,
   "id": "6698bedd",
   "metadata": {},
   "outputs": [],
   "source": [
    "next_node.group_by"
   ]
  },
  {
   "cell_type": "code",
   "execution_count": null,
   "id": "4899b0b1",
   "metadata": {},
   "outputs": [],
   "source": [
    "root_node.children[0].filter"
   ]
  },
  {
   "cell_type": "code",
   "execution_count": null,
   "id": "2940b2a0",
   "metadata": {},
   "outputs": [],
   "source": [
    "contrasts = list(chain(*[s.contrasts for s in specs]))\n",
    "sub_specs = next_node.run(contrasts, group_by=next_node.group_by)"
   ]
  },
  {
   "cell_type": "code",
   "execution_count": null,
   "id": "a57e4fe5",
   "metadata": {},
   "outputs": [],
   "source": [
    "api(sub_specs[3])"
   ]
  },
  {
   "cell_type": "code",
   "execution_count": null,
   "id": "53fb6154",
   "metadata": {},
   "outputs": [],
   "source": [
    "ds1_node = next_node.children[1].destination\n",
    "api(ds1_node)"
   ]
  },
  {
   "cell_type": "code",
   "execution_count": null,
   "id": "c1b6fbd8",
   "metadata": {},
   "outputs": [],
   "source": [
    "next_node.children[1].filter"
   ]
  },
  {
   "cell_type": "code",
   "execution_count": null,
   "id": "f4b5b9d6",
   "metadata": {},
   "outputs": [],
   "source": [
    "sub_contrasts = list(chain(*[s.contrasts for s in sub_specs]))\n",
    "ds1_specs = ds1_node.run(sub_contrasts, group_by=ds1_node.group_by, **next_node.children[1].filter)"
   ]
  },
  {
   "cell_type": "code",
   "execution_count": null,
   "id": "8450a2d1",
   "metadata": {},
   "outputs": [],
   "source": [
    "%debug"
   ]
  },
  {
   "cell_type": "code",
   "execution_count": null,
   "id": "74d46732",
   "metadata": {},
   "outputs": [],
   "source": [
    "ds1_specs[0].X"
   ]
  },
  {
   "cell_type": "code",
   "execution_count": null,
   "id": "2d60ca9e",
   "metadata": {},
   "outputs": [],
   "source": [
    "pd.concat((ds1_specs[0].data, ds1_specs[0].metadata), axis=1)"
   ]
  },
  {
   "cell_type": "code",
   "execution_count": null,
   "id": "210c3b10",
   "metadata": {},
   "outputs": [],
   "source": [
    "ds1_specs[0].contrasts"
   ]
  },
  {
   "cell_type": "code",
   "execution_count": null,
   "id": "6c769b33",
   "metadata": {},
   "outputs": [],
   "source": [
    "ds0_node = next_node.children[0].destination \n",
    "ds0_specs = ds0_node.run(sub_contrasts, group_by=ds0_node.group_by)"
   ]
  },
  {
   "cell_type": "code",
   "execution_count": null,
   "id": "d3f5480f",
   "metadata": {},
   "outputs": [],
   "source": [
    "ds0_specs"
   ]
  },
  {
   "cell_type": "code",
   "execution_count": null,
   "id": "74919502",
   "metadata": {},
   "outputs": [],
   "source": [
    "ds0_specs[1].X"
   ]
  },
  {
   "cell_type": "code",
   "execution_count": null,
   "id": "a1a794c8",
   "metadata": {},
   "outputs": [],
   "source": [
    "pd.concat((ds0_specs[0].data, ds0_specs[0].metadata), axis=1)"
   ]
  },
  {
   "cell_type": "code",
   "execution_count": null,
   "id": "99bd7b05",
   "metadata": {},
   "outputs": [],
   "source": [
    "ds2_node = next_node.children[2].destination \n",
    "filters = next_node.children[2].filter or {}\n",
    "print(filters)\n",
    "ds2_specs = ds2_node.run(sub_contrasts, group_by=ds2_node.group_by, **filters)\n",
    "print(ds2_specs)"
   ]
  },
  {
   "cell_type": "code",
   "execution_count": null,
   "id": "e2d8bd82",
   "metadata": {},
   "outputs": [],
   "source": [
    "api(ds2_specs[0])"
   ]
  },
  {
   "cell_type": "code",
   "execution_count": null,
   "id": "cd684a1c",
   "metadata": {},
   "outputs": [],
   "source": [
    "ds2_specs[0].X"
   ]
  },
  {
   "cell_type": "code",
   "execution_count": null,
   "id": "167fb3ed",
   "metadata": {},
   "outputs": [],
   "source": [
    "pd.concat((ds2_specs[0].data, ds2_specs[0].metadata), axis=1)"
   ]
  },
  {
   "cell_type": "code",
   "execution_count": null,
   "id": "607d7878",
   "metadata": {},
   "outputs": [],
   "source": [
    "api(ds1_node)"
   ]
  },
  {
   "cell_type": "code",
   "execution_count": null,
   "id": "5dd3f973",
   "metadata": {},
   "outputs": [],
   "source": [
    "graph.nodes"
   ]
  },
  {
   "cell_type": "code",
   "execution_count": null,
   "id": "850ecd5c",
   "metadata": {},
   "outputs": [],
   "source": [
    "graph.root_node.children"
   ]
  },
  {
   "cell_type": "code",
   "execution_count": null,
   "id": "20253c9d",
   "metadata": {},
   "outputs": [],
   "source": [
    "graph.root_node.children[0].destination.children"
   ]
  },
  {
   "cell_type": "code",
   "execution_count": null,
   "id": "189cd9f6",
   "metadata": {},
   "outputs": [],
   "source": [
    "graph.root_node.children[0].destination.children[2].destination.name"
   ]
  },
  {
   "cell_type": "code",
   "execution_count": null,
   "id": "cd403d0d",
   "metadata": {},
   "outputs": [],
   "source": []
  }
 ],
 "metadata": {
  "jupytext": {
   "formats": "ipynb,md:myst",
   "text_representation": {
    "extension": ".md",
    "format_name": "myst",
    "format_version": 0.13,
    "jupytext_version": "1.14.1"
   }
  },
  "kernelspec": {
   "display_name": "Python 3 (ipykernel)",
   "language": "python",
   "name": "python3"
  },
  "language_info": {
   "codemirror_mode": {
    "name": "ipython",
    "version": 3
   },
   "file_extension": ".py",
   "mimetype": "text/x-python",
   "name": "python",
   "nbconvert_exporter": "python",
   "pygments_lexer": "ipython3",
   "version": "3.9.14"
  },
  "source_map": [
   13,
   17,
   38,
   42,
   48,
   55,
   59,
   63,
   67,
   74,
   78,
   82,
   86,
   90,
   94,
   98,
   102,
   108,
   112,
   116,
   120,
   125,
   129,
   134,
   138,
   143,
   147,
   151,
   155,
   159,
   164,
   168,
   172,
   176,
   184,
   188,
   192,
   196,
   200,
   204,
   208,
   212,
   216
  ]
 },
 "nbformat": 4,
 "nbformat_minor": 5
}