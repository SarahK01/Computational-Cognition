{
 "cells": [
  {
   "cell_type": "markdown",
   "id": "7048b6c8",
   "metadata": {},
   "source": [
    "# NARPS"
   ]
  },
  {
   "cell_type": "code",
   "execution_count": 1,
   "id": "30d1839c",
   "metadata": {},
   "outputs": [],
   "source": [
    "%load_ext autoreload\n",
    "%autoreload 2\n",
    "\n",
    "import json\n",
    "from pathlib import Path\n",
    "from itertools import chain\n",
    "\n",
    "import numpy as np\n",
    "import pandas as pd\n",
    "\n",
    "from nilearn.plotting import plot_design_matrix\n",
    "\n",
    "import bids\n",
    "from bids.modeling import BIDSStatsModelsGraph\n",
    "from bids.layout import BIDSLayout\n",
    "\n",
    "def api(obj):\n",
    "    return {attr: getattr(obj, attr) for attr in dir(obj) if not attr[0] == '_'}"
   ]
  },
  {
   "cell_type": "code",
   "execution_count": 2,
   "id": "b22a6927",
   "metadata": {},
   "outputs": [],
   "source": [
    "layout = BIDSLayout('./ds001734/', database_path=\"./ds001734.db\")"
   ]
  },
  {
   "cell_type": "code",
   "execution_count": 3,
   "id": "11681512",
   "metadata": {},
   "outputs": [
    {
     "data": {
      "text/plain": [
       "{'Name': 'NARPS',\n",
       " 'Description': 'NARPS Analysis model',\n",
       " 'BIDSModelVersion': '1.0.0',\n",
       " 'Input': {'task': 'MGT'},\n",
       " 'Nodes': [{'Level': 'Run',\n",
       "   'Name': 'run',\n",
       "   'GroupBy': ['run', 'subject'],\n",
       "   'Transformations': {'Transformer': 'pybids-transforms-v1',\n",
       "    'Instructions': [{'Name': 'Threshold',\n",
       "      'Input': ['gain'],\n",
       "      'Binarize': True,\n",
       "      'Output': ['trials']},\n",
       "     {'Name': 'Scale',\n",
       "      'Input': ['gain', 'loss', 'RT'],\n",
       "      'Demean': True,\n",
       "      'Rescale': False,\n",
       "      'Output': ['gain', 'loss', 'demeaned_RT']},\n",
       "     {'Name': 'Convolve',\n",
       "      'Model': 'spm',\n",
       "      'Input': ['trials', 'gain', 'loss', 'demeaned_RT']}]},\n",
       "   'Model': {'X': ['trials', 'gain', 'loss', 'demeaned_RT', 1], 'Type': 'glm'},\n",
       "   'DummyContrasts': {'Conditions': ['trials', 'gain', 'loss'], 'Test': 't'}},\n",
       "  {'Level': 'Subject',\n",
       "   'Name': 'subject',\n",
       "   'GroupBy': ['subject', 'contrast'],\n",
       "   'Model': {'X': [1], 'Type': 'meta'},\n",
       "   'DummyContrasts': {'Test': 't'}},\n",
       "  {'Level': 'Dataset',\n",
       "   'Name': 'between-groups',\n",
       "   'GroupBy': ['contrast'],\n",
       "   'Model': {'X': [1, 'group'], 'Formula': '0 + C(group)'},\n",
       "   'Contrasts': [{'Name': 'range_vs_indiference',\n",
       "     'ConditionList': ['C(group)[T.equalRange]',\n",
       "      'C(group)[T.equalIndifference]'],\n",
       "     'Weights': [1, -1],\n",
       "     'Test': 't'}]},\n",
       "  {'Level': 'Dataset',\n",
       "   'Name': 'positive',\n",
       "   'GroupBy': ['contrast', 'group'],\n",
       "   'Model': {'X': [1]},\n",
       "   'DummyContrasts': {'Test': 't'}},\n",
       "  {'Level': 'Dataset',\n",
       "   'Name': 'negative-loss',\n",
       "   'GroupBy': ['contrast', 'group'],\n",
       "   'Model': {'X': [1]},\n",
       "   'Contrasts': [{'Name': 'negative',\n",
       "     'ConditionList': [1],\n",
       "     'Weights': [-1],\n",
       "     'Test': 't'}]}],\n",
       " 'Edges': [{'Source': 'run', 'Destination': 'subject'},\n",
       "  {'Source': 'subject', 'Destination': 'positive'},\n",
       "  {'Source': 'subject',\n",
       "   'Destination': 'negative-loss',\n",
       "   'Filter': {'contrast': ['loss']}},\n",
       "  {'Source': 'subject',\n",
       "   'Destination': 'between-groups',\n",
       "   'Filter': {'contrast': ['loss']}}]}"
      ]
     },
     "execution_count": 3,
     "metadata": {},
     "output_type": "execute_result"
    }
   ],
   "source": [
    "json_file = './model-narps_smdl.json'\n",
    "spec = json.loads(Path(json_file).read_text())\n",
    "spec"
   ]
  },
  {
   "cell_type": "code",
   "execution_count": 4,
   "id": "7a38506d",
   "metadata": {},
   "outputs": [],
   "source": [
    "spec['Input'] = {\n",
    "    'task': 'MGT',\n",
    "    'subject': ['001', '002', '003']\n",
    "}"
   ]
  },
  {
   "cell_type": "code",
   "execution_count": 5,
   "id": "b2181a34",
   "metadata": {},
   "outputs": [],
   "source": [
    "graph = BIDSStatsModelsGraph(layout, spec)"
   ]
  },
  {
   "cell_type": "code",
   "execution_count": 6,
   "id": "a3f17931",
   "metadata": {},
   "outputs": [
    {
     "ename": "ExecutableNotFound",
     "evalue": "failed to execute PosixPath('dot'), make sure the Graphviz executables are on your systems' PATH",
     "output_type": "error",
     "traceback": [
      "\u001b[0;31m---------------------------------------------------------------------------\u001b[0m",
      "\u001b[0;31mFileNotFoundError\u001b[0m                         Traceback (most recent call last)",
      "File \u001b[0;32m/opt/hostedtoolcache/Python/3.9.14/x64/lib/python3.9/site-packages/graphviz/backend/execute.py:81\u001b[0m, in \u001b[0;36mrun_check\u001b[0;34m(cmd, input_lines, encoding, quiet, **kwargs)\u001b[0m\n\u001b[1;32m     80\u001b[0m     \u001b[38;5;28;01melse\u001b[39;00m:\n\u001b[0;32m---> 81\u001b[0m         proc \u001b[38;5;241m=\u001b[39m \u001b[43msubprocess\u001b[49m\u001b[38;5;241;43m.\u001b[39;49m\u001b[43mrun\u001b[49m\u001b[43m(\u001b[49m\u001b[43mcmd\u001b[49m\u001b[43m,\u001b[49m\u001b[43m \u001b[49m\u001b[38;5;241;43m*\u001b[39;49m\u001b[38;5;241;43m*\u001b[39;49m\u001b[43mkwargs\u001b[49m\u001b[43m)\u001b[49m\n\u001b[1;32m     82\u001b[0m \u001b[38;5;28;01mexcept\u001b[39;00m \u001b[38;5;167;01mOSError\u001b[39;00m \u001b[38;5;28;01mas\u001b[39;00m e:\n",
      "File \u001b[0;32m/opt/hostedtoolcache/Python/3.9.14/x64/lib/python3.9/subprocess.py:505\u001b[0m, in \u001b[0;36mrun\u001b[0;34m(input, capture_output, timeout, check, *popenargs, **kwargs)\u001b[0m\n\u001b[1;32m    503\u001b[0m     kwargs[\u001b[38;5;124m'\u001b[39m\u001b[38;5;124mstderr\u001b[39m\u001b[38;5;124m'\u001b[39m] \u001b[38;5;241m=\u001b[39m PIPE\n\u001b[0;32m--> 505\u001b[0m \u001b[38;5;28;01mwith\u001b[39;00m \u001b[43mPopen\u001b[49m\u001b[43m(\u001b[49m\u001b[38;5;241;43m*\u001b[39;49m\u001b[43mpopenargs\u001b[49m\u001b[43m,\u001b[49m\u001b[43m \u001b[49m\u001b[38;5;241;43m*\u001b[39;49m\u001b[38;5;241;43m*\u001b[39;49m\u001b[43mkwargs\u001b[49m\u001b[43m)\u001b[49m \u001b[38;5;28;01mas\u001b[39;00m process:\n\u001b[1;32m    506\u001b[0m     \u001b[38;5;28;01mtry\u001b[39;00m:\n",
      "File \u001b[0;32m/opt/hostedtoolcache/Python/3.9.14/x64/lib/python3.9/subprocess.py:951\u001b[0m, in \u001b[0;36mPopen.__init__\u001b[0;34m(self, args, bufsize, executable, stdin, stdout, stderr, preexec_fn, close_fds, shell, cwd, env, universal_newlines, startupinfo, creationflags, restore_signals, start_new_session, pass_fds, user, group, extra_groups, encoding, errors, text, umask)\u001b[0m\n\u001b[1;32m    948\u001b[0m             \u001b[38;5;28mself\u001b[39m\u001b[38;5;241m.\u001b[39mstderr \u001b[38;5;241m=\u001b[39m io\u001b[38;5;241m.\u001b[39mTextIOWrapper(\u001b[38;5;28mself\u001b[39m\u001b[38;5;241m.\u001b[39mstderr,\n\u001b[1;32m    949\u001b[0m                     encoding\u001b[38;5;241m=\u001b[39mencoding, errors\u001b[38;5;241m=\u001b[39merrors)\n\u001b[0;32m--> 951\u001b[0m     \u001b[38;5;28;43mself\u001b[39;49m\u001b[38;5;241;43m.\u001b[39;49m\u001b[43m_execute_child\u001b[49m\u001b[43m(\u001b[49m\u001b[43margs\u001b[49m\u001b[43m,\u001b[49m\u001b[43m \u001b[49m\u001b[43mexecutable\u001b[49m\u001b[43m,\u001b[49m\u001b[43m \u001b[49m\u001b[43mpreexec_fn\u001b[49m\u001b[43m,\u001b[49m\u001b[43m \u001b[49m\u001b[43mclose_fds\u001b[49m\u001b[43m,\u001b[49m\n\u001b[1;32m    952\u001b[0m \u001b[43m                        \u001b[49m\u001b[43mpass_fds\u001b[49m\u001b[43m,\u001b[49m\u001b[43m \u001b[49m\u001b[43mcwd\u001b[49m\u001b[43m,\u001b[49m\u001b[43m \u001b[49m\u001b[43menv\u001b[49m\u001b[43m,\u001b[49m\n\u001b[1;32m    953\u001b[0m \u001b[43m                        \u001b[49m\u001b[43mstartupinfo\u001b[49m\u001b[43m,\u001b[49m\u001b[43m \u001b[49m\u001b[43mcreationflags\u001b[49m\u001b[43m,\u001b[49m\u001b[43m \u001b[49m\u001b[43mshell\u001b[49m\u001b[43m,\u001b[49m\n\u001b[1;32m    954\u001b[0m \u001b[43m                        \u001b[49m\u001b[43mp2cread\u001b[49m\u001b[43m,\u001b[49m\u001b[43m \u001b[49m\u001b[43mp2cwrite\u001b[49m\u001b[43m,\u001b[49m\n\u001b[1;32m    955\u001b[0m \u001b[43m                        \u001b[49m\u001b[43mc2pread\u001b[49m\u001b[43m,\u001b[49m\u001b[43m \u001b[49m\u001b[43mc2pwrite\u001b[49m\u001b[43m,\u001b[49m\n\u001b[1;32m    956\u001b[0m \u001b[43m                        \u001b[49m\u001b[43merrread\u001b[49m\u001b[43m,\u001b[49m\u001b[43m \u001b[49m\u001b[43merrwrite\u001b[49m\u001b[43m,\u001b[49m\n\u001b[1;32m    957\u001b[0m \u001b[43m                        \u001b[49m\u001b[43mrestore_signals\u001b[49m\u001b[43m,\u001b[49m\n\u001b[1;32m    958\u001b[0m \u001b[43m                        \u001b[49m\u001b[43mgid\u001b[49m\u001b[43m,\u001b[49m\u001b[43m \u001b[49m\u001b[43mgids\u001b[49m\u001b[43m,\u001b[49m\u001b[43m \u001b[49m\u001b[43muid\u001b[49m\u001b[43m,\u001b[49m\u001b[43m \u001b[49m\u001b[43mumask\u001b[49m\u001b[43m,\u001b[49m\n\u001b[1;32m    959\u001b[0m \u001b[43m                        \u001b[49m\u001b[43mstart_new_session\u001b[49m\u001b[43m)\u001b[49m\n\u001b[1;32m    960\u001b[0m \u001b[38;5;28;01mexcept\u001b[39;00m:\n\u001b[1;32m    961\u001b[0m     \u001b[38;5;66;03m# Cleanup if the child failed starting.\u001b[39;00m\n",
      "File \u001b[0;32m/opt/hostedtoolcache/Python/3.9.14/x64/lib/python3.9/subprocess.py:1821\u001b[0m, in \u001b[0;36mPopen._execute_child\u001b[0;34m(self, args, executable, preexec_fn, close_fds, pass_fds, cwd, env, startupinfo, creationflags, shell, p2cread, p2cwrite, c2pread, c2pwrite, errread, errwrite, restore_signals, gid, gids, uid, umask, start_new_session)\u001b[0m\n\u001b[1;32m   1820\u001b[0m         err_msg \u001b[38;5;241m=\u001b[39m os\u001b[38;5;241m.\u001b[39mstrerror(errno_num)\n\u001b[0;32m-> 1821\u001b[0m     \u001b[38;5;28;01mraise\u001b[39;00m child_exception_type(errno_num, err_msg, err_filename)\n\u001b[1;32m   1822\u001b[0m \u001b[38;5;28;01mraise\u001b[39;00m child_exception_type(err_msg)\n",
      "\u001b[0;31mFileNotFoundError\u001b[0m: [Errno 2] No such file or directory: PosixPath('dot')",
      "\nThe above exception was the direct cause of the following exception:\n",
      "\u001b[0;31mExecutableNotFound\u001b[0m                        Traceback (most recent call last)",
      "Cell \u001b[0;32mIn [6], line 1\u001b[0m\n\u001b[0;32m----> 1\u001b[0m graph\u001b[38;5;241m.\u001b[39mwrite_graph(\u001b[38;5;28mformat\u001b[39m\u001b[38;5;241m=\u001b[39m\u001b[38;5;124m'\u001b[39m\u001b[38;5;124msvg\u001b[39m\u001b[38;5;124m'\u001b[39m)\n",
      "File \u001b[0;32m~/work/model-zoo/model-zoo/src/pybids/bids/modeling/statsmodels.py:228\u001b[0m, in \u001b[0;36mBIDSStatsModelsGraph.write_graph\u001b[0;34m(self, dotfilename, format)\u001b[0m\n\u001b[1;32m    225\u001b[0m \u001b[38;5;28;01mfor\u001b[39;00m edge \u001b[38;5;129;01min\u001b[39;00m \u001b[38;5;28mself\u001b[39m\u001b[38;5;241m.\u001b[39medges:\n\u001b[1;32m    226\u001b[0m     dot\u001b[38;5;241m.\u001b[39medge(edge[\u001b[38;5;124m'\u001b[39m\u001b[38;5;124msource\u001b[39m\u001b[38;5;124m'\u001b[39m], edge[\u001b[38;5;124m'\u001b[39m\u001b[38;5;124mdestination\u001b[39m\u001b[38;5;124m'\u001b[39m])\n\u001b[0;32m--> 228\u001b[0m \u001b[43mdot\u001b[49m\u001b[38;5;241;43m.\u001b[39;49m\u001b[43mrender\u001b[49m\u001b[43m(\u001b[49m\u001b[43m)\u001b[49m\n\u001b[1;32m    230\u001b[0m \u001b[38;5;28;01mreturn\u001b[39;00m dot\n",
      "File \u001b[0;32m/opt/hostedtoolcache/Python/3.9.14/x64/lib/python3.9/site-packages/graphviz/_tools.py:171\u001b[0m, in \u001b[0;36mdeprecate_positional_args.<locals>.decorator.<locals>.wrapper\u001b[0;34m(*args, **kwargs)\u001b[0m\n\u001b[1;32m    162\u001b[0m     wanted \u001b[38;5;241m=\u001b[39m \u001b[38;5;124m'\u001b[39m\u001b[38;5;124m, \u001b[39m\u001b[38;5;124m'\u001b[39m\u001b[38;5;241m.\u001b[39mjoin(\u001b[38;5;124mf\u001b[39m\u001b[38;5;124m'\u001b[39m\u001b[38;5;132;01m{\u001b[39;00mname\u001b[38;5;132;01m}\u001b[39;00m\u001b[38;5;124m=\u001b[39m\u001b[38;5;132;01m{\u001b[39;00mvalue\u001b[38;5;132;01m!r}\u001b[39;00m\u001b[38;5;124m'\u001b[39m\n\u001b[1;32m    163\u001b[0m                        \u001b[38;5;28;01mfor\u001b[39;00m name, value \u001b[38;5;129;01min\u001b[39;00m deprecated\u001b[38;5;241m.\u001b[39mitems())\n\u001b[1;32m    164\u001b[0m     warnings\u001b[38;5;241m.\u001b[39mwarn(\u001b[38;5;124mf\u001b[39m\u001b[38;5;124m'\u001b[39m\u001b[38;5;124mThe signature of \u001b[39m\u001b[38;5;132;01m{\u001b[39;00mfunc\u001b[38;5;241m.\u001b[39m\u001b[38;5;18m__name__\u001b[39m\u001b[38;5;132;01m}\u001b[39;00m\u001b[38;5;124m will be reduced\u001b[39m\u001b[38;5;124m'\u001b[39m\n\u001b[1;32m    165\u001b[0m                   \u001b[38;5;124mf\u001b[39m\u001b[38;5;124m'\u001b[39m\u001b[38;5;124m to \u001b[39m\u001b[38;5;132;01m{\u001b[39;00msupported_number\u001b[38;5;132;01m}\u001b[39;00m\u001b[38;5;124m positional args\u001b[39m\u001b[38;5;124m'\u001b[39m\n\u001b[1;32m    166\u001b[0m                   \u001b[38;5;124mf\u001b[39m\u001b[38;5;124m'\u001b[39m\u001b[38;5;124m \u001b[39m\u001b[38;5;132;01m{\u001b[39;00m\u001b[38;5;28mlist\u001b[39m(supported)\u001b[38;5;132;01m}\u001b[39;00m\u001b[38;5;124m: pass \u001b[39m\u001b[38;5;132;01m{\u001b[39;00mwanted\u001b[38;5;132;01m}\u001b[39;00m\u001b[38;5;124m'\u001b[39m\n\u001b[1;32m    167\u001b[0m                   \u001b[38;5;124m'\u001b[39m\u001b[38;5;124m as keyword arg(s)\u001b[39m\u001b[38;5;124m'\u001b[39m,\n\u001b[1;32m    168\u001b[0m                   stacklevel\u001b[38;5;241m=\u001b[39mstacklevel,\n\u001b[1;32m    169\u001b[0m                   category\u001b[38;5;241m=\u001b[39mcategory)\n\u001b[0;32m--> 171\u001b[0m \u001b[38;5;28;01mreturn\u001b[39;00m \u001b[43mfunc\u001b[49m\u001b[43m(\u001b[49m\u001b[38;5;241;43m*\u001b[39;49m\u001b[43margs\u001b[49m\u001b[43m,\u001b[49m\u001b[43m \u001b[49m\u001b[38;5;241;43m*\u001b[39;49m\u001b[38;5;241;43m*\u001b[39;49m\u001b[43mkwargs\u001b[49m\u001b[43m)\u001b[49m\n",
      "File \u001b[0;32m/opt/hostedtoolcache/Python/3.9.14/x64/lib/python3.9/site-packages/graphviz/rendering.py:122\u001b[0m, in \u001b[0;36mRender.render\u001b[0;34m(self, filename, directory, view, cleanup, format, renderer, formatter, neato_no_op, quiet, quiet_view, outfile, engine, raise_if_result_exists, overwrite_source)\u001b[0m\n\u001b[1;32m    118\u001b[0m filepath \u001b[38;5;241m=\u001b[39m \u001b[38;5;28mself\u001b[39m\u001b[38;5;241m.\u001b[39msave(filename, directory\u001b[38;5;241m=\u001b[39mdirectory, skip_existing\u001b[38;5;241m=\u001b[39m\u001b[38;5;28;01mNone\u001b[39;00m)\n\u001b[1;32m    120\u001b[0m args\u001b[38;5;241m.\u001b[39mappend(filepath)\n\u001b[0;32m--> 122\u001b[0m rendered \u001b[38;5;241m=\u001b[39m \u001b[38;5;28;43mself\u001b[39;49m\u001b[38;5;241;43m.\u001b[39;49m\u001b[43m_render\u001b[49m\u001b[43m(\u001b[49m\u001b[38;5;241;43m*\u001b[39;49m\u001b[43margs\u001b[49m\u001b[43m,\u001b[49m\u001b[43m \u001b[49m\u001b[38;5;241;43m*\u001b[39;49m\u001b[38;5;241;43m*\u001b[39;49m\u001b[43mkwargs\u001b[49m\u001b[43m)\u001b[49m\n\u001b[1;32m    124\u001b[0m \u001b[38;5;28;01mif\u001b[39;00m cleanup:\n\u001b[1;32m    125\u001b[0m     log\u001b[38;5;241m.\u001b[39mdebug(\u001b[38;5;124m'\u001b[39m\u001b[38;5;124mdelete \u001b[39m\u001b[38;5;132;01m%r\u001b[39;00m\u001b[38;5;124m'\u001b[39m, filepath)\n",
      "File \u001b[0;32m/opt/hostedtoolcache/Python/3.9.14/x64/lib/python3.9/site-packages/graphviz/_tools.py:171\u001b[0m, in \u001b[0;36mdeprecate_positional_args.<locals>.decorator.<locals>.wrapper\u001b[0;34m(*args, **kwargs)\u001b[0m\n\u001b[1;32m    162\u001b[0m     wanted \u001b[38;5;241m=\u001b[39m \u001b[38;5;124m'\u001b[39m\u001b[38;5;124m, \u001b[39m\u001b[38;5;124m'\u001b[39m\u001b[38;5;241m.\u001b[39mjoin(\u001b[38;5;124mf\u001b[39m\u001b[38;5;124m'\u001b[39m\u001b[38;5;132;01m{\u001b[39;00mname\u001b[38;5;132;01m}\u001b[39;00m\u001b[38;5;124m=\u001b[39m\u001b[38;5;132;01m{\u001b[39;00mvalue\u001b[38;5;132;01m!r}\u001b[39;00m\u001b[38;5;124m'\u001b[39m\n\u001b[1;32m    163\u001b[0m                        \u001b[38;5;28;01mfor\u001b[39;00m name, value \u001b[38;5;129;01min\u001b[39;00m deprecated\u001b[38;5;241m.\u001b[39mitems())\n\u001b[1;32m    164\u001b[0m     warnings\u001b[38;5;241m.\u001b[39mwarn(\u001b[38;5;124mf\u001b[39m\u001b[38;5;124m'\u001b[39m\u001b[38;5;124mThe signature of \u001b[39m\u001b[38;5;132;01m{\u001b[39;00mfunc\u001b[38;5;241m.\u001b[39m\u001b[38;5;18m__name__\u001b[39m\u001b[38;5;132;01m}\u001b[39;00m\u001b[38;5;124m will be reduced\u001b[39m\u001b[38;5;124m'\u001b[39m\n\u001b[1;32m    165\u001b[0m                   \u001b[38;5;124mf\u001b[39m\u001b[38;5;124m'\u001b[39m\u001b[38;5;124m to \u001b[39m\u001b[38;5;132;01m{\u001b[39;00msupported_number\u001b[38;5;132;01m}\u001b[39;00m\u001b[38;5;124m positional args\u001b[39m\u001b[38;5;124m'\u001b[39m\n\u001b[1;32m    166\u001b[0m                   \u001b[38;5;124mf\u001b[39m\u001b[38;5;124m'\u001b[39m\u001b[38;5;124m \u001b[39m\u001b[38;5;132;01m{\u001b[39;00m\u001b[38;5;28mlist\u001b[39m(supported)\u001b[38;5;132;01m}\u001b[39;00m\u001b[38;5;124m: pass \u001b[39m\u001b[38;5;132;01m{\u001b[39;00mwanted\u001b[38;5;132;01m}\u001b[39;00m\u001b[38;5;124m'\u001b[39m\n\u001b[1;32m    167\u001b[0m                   \u001b[38;5;124m'\u001b[39m\u001b[38;5;124m as keyword arg(s)\u001b[39m\u001b[38;5;124m'\u001b[39m,\n\u001b[1;32m    168\u001b[0m                   stacklevel\u001b[38;5;241m=\u001b[39mstacklevel,\n\u001b[1;32m    169\u001b[0m                   category\u001b[38;5;241m=\u001b[39mcategory)\n\u001b[0;32m--> 171\u001b[0m \u001b[38;5;28;01mreturn\u001b[39;00m \u001b[43mfunc\u001b[49m\u001b[43m(\u001b[49m\u001b[38;5;241;43m*\u001b[39;49m\u001b[43margs\u001b[49m\u001b[43m,\u001b[49m\u001b[43m \u001b[49m\u001b[38;5;241;43m*\u001b[39;49m\u001b[38;5;241;43m*\u001b[39;49m\u001b[43mkwargs\u001b[49m\u001b[43m)\u001b[49m\n",
      "File \u001b[0;32m/opt/hostedtoolcache/Python/3.9.14/x64/lib/python3.9/site-packages/graphviz/backend/rendering.py:324\u001b[0m, in \u001b[0;36mrender\u001b[0;34m(engine, format, filepath, renderer, formatter, neato_no_op, quiet, outfile, raise_if_result_exists, overwrite_filepath)\u001b[0m\n\u001b[1;32m    320\u001b[0m     \u001b[38;5;28;01mraise\u001b[39;00m exceptions\u001b[38;5;241m.\u001b[39mFileExistsError(\u001b[38;5;124mf\u001b[39m\u001b[38;5;124m'\u001b[39m\u001b[38;5;124moutput file exists: \u001b[39m\u001b[38;5;132;01m{\u001b[39;00mos\u001b[38;5;241m.\u001b[39mfspath(outfile)\u001b[38;5;132;01m!r}\u001b[39;00m\u001b[38;5;124m'\u001b[39m)\n\u001b[1;32m    322\u001b[0m cmd \u001b[38;5;241m+\u001b[39m\u001b[38;5;241m=\u001b[39m args\n\u001b[0;32m--> 324\u001b[0m \u001b[43mexecute\u001b[49m\u001b[38;5;241;43m.\u001b[39;49m\u001b[43mrun_check\u001b[49m\u001b[43m(\u001b[49m\u001b[43mcmd\u001b[49m\u001b[43m,\u001b[49m\n\u001b[1;32m    325\u001b[0m \u001b[43m                  \u001b[49m\u001b[43mcwd\u001b[49m\u001b[38;5;241;43m=\u001b[39;49m\u001b[43mfilepath\u001b[49m\u001b[38;5;241;43m.\u001b[39;49m\u001b[43mparent\u001b[49m\u001b[43m \u001b[49m\u001b[38;5;28;43;01mif\u001b[39;49;00m\u001b[43m \u001b[49m\u001b[43mfilepath\u001b[49m\u001b[38;5;241;43m.\u001b[39;49m\u001b[43mparent\u001b[49m\u001b[38;5;241;43m.\u001b[39;49m\u001b[43mparts\u001b[49m\u001b[43m \u001b[49m\u001b[38;5;28;43;01melse\u001b[39;49;00m\u001b[43m \u001b[49m\u001b[38;5;28;43;01mNone\u001b[39;49;00m\u001b[43m,\u001b[49m\n\u001b[1;32m    326\u001b[0m \u001b[43m                  \u001b[49m\u001b[43mquiet\u001b[49m\u001b[38;5;241;43m=\u001b[39;49m\u001b[43mquiet\u001b[49m\u001b[43m,\u001b[49m\n\u001b[1;32m    327\u001b[0m \u001b[43m                  \u001b[49m\u001b[43mcapture_output\u001b[49m\u001b[38;5;241;43m=\u001b[39;49m\u001b[38;5;28;43;01mTrue\u001b[39;49;00m\u001b[43m)\u001b[49m\n\u001b[1;32m    329\u001b[0m \u001b[38;5;28;01mreturn\u001b[39;00m os\u001b[38;5;241m.\u001b[39mfspath(outfile)\n",
      "File \u001b[0;32m/opt/hostedtoolcache/Python/3.9.14/x64/lib/python3.9/site-packages/graphviz/backend/execute.py:84\u001b[0m, in \u001b[0;36mrun_check\u001b[0;34m(cmd, input_lines, encoding, quiet, **kwargs)\u001b[0m\n\u001b[1;32m     82\u001b[0m \u001b[38;5;28;01mexcept\u001b[39;00m \u001b[38;5;167;01mOSError\u001b[39;00m \u001b[38;5;28;01mas\u001b[39;00m e:\n\u001b[1;32m     83\u001b[0m     \u001b[38;5;28;01mif\u001b[39;00m e\u001b[38;5;241m.\u001b[39merrno \u001b[38;5;241m==\u001b[39m errno\u001b[38;5;241m.\u001b[39mENOENT:\n\u001b[0;32m---> 84\u001b[0m         \u001b[38;5;28;01mraise\u001b[39;00m ExecutableNotFound(cmd) \u001b[38;5;28;01mfrom\u001b[39;00m \u001b[38;5;21;01me\u001b[39;00m\n\u001b[1;32m     85\u001b[0m     \u001b[38;5;28;01mraise\u001b[39;00m\n\u001b[1;32m     87\u001b[0m \u001b[38;5;28;01mif\u001b[39;00m \u001b[38;5;129;01mnot\u001b[39;00m quiet \u001b[38;5;129;01mand\u001b[39;00m proc\u001b[38;5;241m.\u001b[39mstderr:\n",
      "\u001b[0;31mExecutableNotFound\u001b[0m: failed to execute PosixPath('dot'), make sure the Graphviz executables are on your systems' PATH"
     ]
    }
   ],
   "source": [
    "graph.write_graph(format='svg')"
   ]
  },
  {
   "cell_type": "code",
   "execution_count": null,
   "id": "9c61ae01",
   "metadata": {},
   "outputs": [],
   "source": [
    "root_node = graph.root_node"
   ]
  },
  {
   "cell_type": "code",
   "execution_count": null,
   "id": "4fe2a582",
   "metadata": {},
   "outputs": [],
   "source": [
    "try:\n",
    "    graph.load_collections()\n",
    "except ValueError:\n",
    "    graph.load_collections(scan_length=453)  # TR = 1, nvols = 453"
   ]
  },
  {
   "cell_type": "code",
   "execution_count": null,
   "id": "5fd1902b",
   "metadata": {},
   "outputs": [],
   "source": [
    "specs = root_node.run(group_by=root_node.group_by, force_dense=False)"
   ]
  },
  {
   "cell_type": "code",
   "execution_count": null,
   "id": "e14c4fa1",
   "metadata": {},
   "outputs": [],
   "source": [
    "api(specs[0])"
   ]
  },
  {
   "cell_type": "code",
   "execution_count": null,
   "id": "ae31de10",
   "metadata": {},
   "outputs": [],
   "source": [
    "specs[0]"
   ]
  },
  {
   "cell_type": "code",
   "execution_count": null,
   "id": "1ec2dec3",
   "metadata": {},
   "outputs": [],
   "source": [
    "plot_design_matrix(specs[0].X)"
   ]
  },
  {
   "cell_type": "code",
   "execution_count": null,
   "id": "1932a7c6",
   "metadata": {},
   "outputs": [],
   "source": [
    "specs[0].entities"
   ]
  },
  {
   "cell_type": "code",
   "execution_count": null,
   "id": "12a01663",
   "metadata": {},
   "outputs": [],
   "source": [
    "specs[0].metadata"
   ]
  },
  {
   "cell_type": "code",
   "execution_count": null,
   "id": "9ec500bb",
   "metadata": {},
   "outputs": [],
   "source": [
    "bold = layout.get(**specs[0].entities, suffix='bold', extension='.nii.gz')[0]"
   ]
  },
  {
   "cell_type": "code",
   "execution_count": null,
   "id": "2629614a",
   "metadata": {},
   "outputs": [],
   "source": [
    "# import nilearn.glm\n",
    "# l1m = nilearn.glm.first_level.FirstLevelModel()\n",
    "# l1m.fit(bold.get_image(), design_matrices=specs[0].X)"
   ]
  },
  {
   "cell_type": "code",
   "execution_count": null,
   "id": "37adce70",
   "metadata": {},
   "outputs": [],
   "source": [
    "next_node = root_node.children[0].destination"
   ]
  },
  {
   "cell_type": "code",
   "execution_count": null,
   "id": "fadcaeef",
   "metadata": {},
   "outputs": [],
   "source": [
    "next_node.group_by"
   ]
  },
  {
   "cell_type": "code",
   "execution_count": null,
   "id": "13698b4a",
   "metadata": {},
   "outputs": [],
   "source": [
    "root_node.children[0].filter"
   ]
  },
  {
   "cell_type": "code",
   "execution_count": null,
   "id": "f66812ee",
   "metadata": {},
   "outputs": [],
   "source": [
    "contrasts = list(chain(*[s.contrasts for s in specs]))\n",
    "sub_specs = next_node.run(contrasts, group_by=next_node.group_by)"
   ]
  },
  {
   "cell_type": "code",
   "execution_count": null,
   "id": "82c72991",
   "metadata": {},
   "outputs": [],
   "source": [
    "api(sub_specs[3])"
   ]
  },
  {
   "cell_type": "code",
   "execution_count": null,
   "id": "d231c1a8",
   "metadata": {},
   "outputs": [],
   "source": [
    "ds1_node = next_node.children[1].destination\n",
    "api(ds1_node)"
   ]
  },
  {
   "cell_type": "code",
   "execution_count": null,
   "id": "b065e69c",
   "metadata": {},
   "outputs": [],
   "source": [
    "next_node.children[1].filter"
   ]
  },
  {
   "cell_type": "code",
   "execution_count": null,
   "id": "c860ba28",
   "metadata": {},
   "outputs": [],
   "source": [
    "sub_contrasts = list(chain(*[s.contrasts for s in sub_specs]))\n",
    "ds1_specs = ds1_node.run(sub_contrasts, group_by=ds1_node.group_by, **next_node.children[1].filter)"
   ]
  },
  {
   "cell_type": "code",
   "execution_count": null,
   "id": "619ad34e",
   "metadata": {},
   "outputs": [],
   "source": [
    "%debug"
   ]
  },
  {
   "cell_type": "code",
   "execution_count": null,
   "id": "3c97a496",
   "metadata": {},
   "outputs": [],
   "source": [
    "ds1_specs[0].X"
   ]
  },
  {
   "cell_type": "code",
   "execution_count": null,
   "id": "7cf973ee",
   "metadata": {},
   "outputs": [],
   "source": [
    "pd.concat((ds1_specs[0].data, ds1_specs[0].metadata), axis=1)"
   ]
  },
  {
   "cell_type": "code",
   "execution_count": null,
   "id": "13868d53",
   "metadata": {},
   "outputs": [],
   "source": [
    "ds1_specs[0].contrasts"
   ]
  },
  {
   "cell_type": "code",
   "execution_count": null,
   "id": "327d83ab",
   "metadata": {},
   "outputs": [],
   "source": [
    "ds0_node = next_node.children[0].destination \n",
    "ds0_specs = ds0_node.run(sub_contrasts, group_by=ds0_node.group_by)"
   ]
  },
  {
   "cell_type": "code",
   "execution_count": null,
   "id": "de52dfd6",
   "metadata": {},
   "outputs": [],
   "source": [
    "ds0_specs"
   ]
  },
  {
   "cell_type": "code",
   "execution_count": null,
   "id": "7835c852",
   "metadata": {},
   "outputs": [],
   "source": [
    "ds0_specs[1].X"
   ]
  },
  {
   "cell_type": "code",
   "execution_count": null,
   "id": "8c45804a",
   "metadata": {},
   "outputs": [],
   "source": [
    "pd.concat((ds0_specs[0].data, ds0_specs[0].metadata), axis=1)"
   ]
  },
  {
   "cell_type": "code",
   "execution_count": null,
   "id": "83a04ab1",
   "metadata": {},
   "outputs": [],
   "source": [
    "ds2_node = next_node.children[2].destination \n",
    "filters = next_node.children[2].filter or {}\n",
    "print(filters)\n",
    "ds2_specs = ds2_node.run(sub_contrasts, group_by=ds2_node.group_by, **filters)\n",
    "print(ds2_specs)"
   ]
  },
  {
   "cell_type": "code",
   "execution_count": null,
   "id": "b2f8f707",
   "metadata": {},
   "outputs": [],
   "source": [
    "api(ds2_specs[0])"
   ]
  },
  {
   "cell_type": "code",
   "execution_count": null,
   "id": "666fb1ff",
   "metadata": {},
   "outputs": [],
   "source": [
    "ds2_specs[0].X"
   ]
  },
  {
   "cell_type": "code",
   "execution_count": null,
   "id": "f930504e",
   "metadata": {},
   "outputs": [],
   "source": [
    "pd.concat((ds2_specs[0].data, ds2_specs[0].metadata), axis=1)"
   ]
  },
  {
   "cell_type": "code",
   "execution_count": null,
   "id": "5f079dcc",
   "metadata": {},
   "outputs": [],
   "source": [
    "api(ds1_node)"
   ]
  },
  {
   "cell_type": "code",
   "execution_count": null,
   "id": "faf22b25",
   "metadata": {},
   "outputs": [],
   "source": [
    "graph.nodes"
   ]
  },
  {
   "cell_type": "code",
   "execution_count": null,
   "id": "a7ace070",
   "metadata": {},
   "outputs": [],
   "source": [
    "graph.root_node.children"
   ]
  },
  {
   "cell_type": "code",
   "execution_count": null,
   "id": "11a9f0b1",
   "metadata": {},
   "outputs": [],
   "source": [
    "graph.root_node.children[0].destination.children"
   ]
  },
  {
   "cell_type": "code",
   "execution_count": null,
   "id": "cbb746b5",
   "metadata": {},
   "outputs": [],
   "source": [
    "graph.root_node.children[0].destination.children[2].destination.name"
   ]
  },
  {
   "cell_type": "code",
   "execution_count": null,
   "id": "c032850a",
   "metadata": {},
   "outputs": [],
   "source": []
  }
 ],
 "metadata": {
  "jupytext": {
   "formats": "ipynb,md:myst",
   "text_representation": {
    "extension": ".md",
    "format_name": "myst",
    "format_version": 0.13,
    "jupytext_version": "1.14.1"
   }
  },
  "kernelspec": {
   "display_name": "Python 3 (ipykernel)",
   "language": "python",
   "name": "python3"
  },
  "language_info": {
   "codemirror_mode": {
    "name": "ipython",
    "version": 3
   },
   "file_extension": ".py",
   "mimetype": "text/x-python",
   "name": "python",
   "nbconvert_exporter": "python",
   "pygments_lexer": "ipython3",
   "version": "3.9.14"
  },
  "source_map": [
   13,
   17,
   38,
   42,
   48,
   55,
   59,
   63,
   67,
   74,
   78,
   82,
   86,
   90,
   94,
   98,
   102,
   108,
   112,
   116,
   120,
   125,
   129,
   134,
   138,
   143,
   147,
   151,
   155,
   159,
   164,
   168,
   172,
   176,
   184,
   188,
   192,
   196,
   200,
   204,
   208,
   212,
   216
  ]
 },
 "nbformat": 4,
 "nbformat_minor": 5
}